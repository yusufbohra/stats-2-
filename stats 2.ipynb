{
 "cells": [
  {
   "cell_type": "code",
   "execution_count": 1,
   "id": "4361b1db-7922-4aa9-b8d2-0fac5349c552",
   "metadata": {},
   "outputs": [
    {
     "data": {
      "text/plain": [
       "\"The Probability Mass Function (PMF) and Probability Density Function (PDF) are both mathematical functions used in probability theory and statistics to describe the probability distribution of a random variable. They play different roles depending on whether the random variable is discrete or continuous.\\n\\n1. Probability Mass Function (PMF):\\nThe PMF is used for discrete random variables, which take on a countable set of distinct values. The PMF gives the probability that the random variable equals a specific value. Mathematically, the PMF is denoted as P(X = x), where X is the random variable and x is the specific value.\\n\\nThe PMF satisfies the following properties:\\n- Non-negativity: P(X = x) ≥ 0 for all x in the domain of X.\\n- Probability sum: The sum of the probabilities of all possible values of X is equal to 1: Σ P(X = x) = 1, where the sum is taken over all possible values of X.\\n\\nExample of PMF:\\nLet's consider a fair six-sided die roll. The random variable X represents the outcome of the die roll, and it takes values {1, 2, 3, 4, 5, 6}. Since each outcome has an equal chance of occurring (1/6), the PMF of X is given by:\\nP(X = 1) = 1/6\\nP(X = 2) = 1/6\\nP(X = 3) = 1/6\\nP(X = 4) = 1/6\\nP(X = 5) = 1/6\\nP(X = 6) = 1/6\\nThe sum of all probabilities is 1, as expected.\\n\\n2. Probability Density Function (PDF):\\nThe PDF is used for continuous random variables, which can take on any value within a continuous range. The PDF provides a function that describes the probability distribution of the random variable across its entire range.\\n\\nUnlike the PMF, the PDF does not give the probability at a specific point. Instead, the probability of the random variable falling within a certain range is calculated by integrating the PDF over that range. The PDF is denoted as f(x) for the continuous random variable X.\\n\\nThe PDF satisfies the following properties:\\n- Non-negativity: f(x) ≥ 0 for all x in the domain of X.\\n- Total area under the curve: The integral of the PDF over the entire domain of X is equal to 1: ∫ f(x) dx = 1, where the integral is taken over the entire domain of X.\\n\\nExample of PDF:\\nA common example of a continuous random variable is the standard normal distribution with mean 0 and standard deviation 1. The PDF of the standard normal distribution is given by the bell-shaped curve described by the formula:\\nf(x) = (1 / √(2π)) * e^(-x^2/2)\\nHere, x can take any real value, and the PDF describes the relative likelihood of different values of x occurring. The total area under the curve is 1, which means the probability of X falling within the entire real number line is 1.\""
      ]
     },
     "execution_count": 1,
     "metadata": {},
     "output_type": "execute_result"
    }
   ],
   "source": [
    "#que 1 \n",
    "\"\"\"The Probability Mass Function (PMF) and Probability Density Function (PDF) are both mathematical functions used in probability theory and statistics to describe the probability distribution of a random variable. They play different roles depending on whether the random variable is discrete or continuous.\n",
    "\n",
    "1. Probability Mass Function (PMF):\n",
    "The PMF is used for discrete random variables, which take on a countable set of distinct values. The PMF gives the probability that the random variable equals a specific value. Mathematically, the PMF is denoted as P(X = x), where X is the random variable and x is the specific value.\n",
    "\n",
    "The PMF satisfies the following properties:\n",
    "- Non-negativity: P(X = x) ≥ 0 for all x in the domain of X.\n",
    "- Probability sum: The sum of the probabilities of all possible values of X is equal to 1: Σ P(X = x) = 1, where the sum is taken over all possible values of X.\n",
    "\n",
    "Example of PMF:\n",
    "Let's consider a fair six-sided die roll. The random variable X represents the outcome of the die roll, and it takes values {1, 2, 3, 4, 5, 6}. Since each outcome has an equal chance of occurring (1/6), the PMF of X is given by:\n",
    "P(X = 1) = 1/6\n",
    "P(X = 2) = 1/6\n",
    "P(X = 3) = 1/6\n",
    "P(X = 4) = 1/6\n",
    "P(X = 5) = 1/6\n",
    "P(X = 6) = 1/6\n",
    "The sum of all probabilities is 1, as expected.\n",
    "\n",
    "2. Probability Density Function (PDF):\n",
    "The PDF is used for continuous random variables, which can take on any value within a continuous range. The PDF provides a function that describes the probability distribution of the random variable across its entire range.\n",
    "\n",
    "Unlike the PMF, the PDF does not give the probability at a specific point. Instead, the probability of the random variable falling within a certain range is calculated by integrating the PDF over that range. The PDF is denoted as f(x) for the continuous random variable X.\n",
    "\n",
    "The PDF satisfies the following properties:\n",
    "- Non-negativity: f(x) ≥ 0 for all x in the domain of X.\n",
    "- Total area under the curve: The integral of the PDF over the entire domain of X is equal to 1: ∫ f(x) dx = 1, where the integral is taken over the entire domain of X.\n",
    "\n",
    "Example of PDF:\n",
    "A common example of a continuous random variable is the standard normal distribution with mean 0 and standard deviation 1. The PDF of the standard normal distribution is given by the bell-shaped curve described by the formula:\n",
    "f(x) = (1 / √(2π)) * e^(-x^2/2)\n",
    "Here, x can take any real value, and the PDF describes the relative likelihood of different values of x occurring. The total area under the curve is 1, which means the probability of X falling within the entire real number line is 1.\"\"\""
   ]
  },
  {
   "cell_type": "code",
   "execution_count": 2,
   "id": "f0301b12-8386-4baf-ab03-3495d9ff9077",
   "metadata": {},
   "outputs": [
    {
     "data": {
      "text/plain": [
       "\"The Cumulative Distribution Function (CDF) is a function used in probability theory and statistics to describe the cumulative probability distribution of a random variable. It gives the probability that the random variable is less than or equal to a specific value. For discrete random variables, the CDF is a step function, while for continuous random variables, it is a continuous function.\\n\\nMathematically, the CDF is denoted as F(x) for a random variable X, and it is defined as follows:\\n\\n- For discrete random variables:\\nF(x) = P(X ≤ x), where P(X ≤ x) is the probability that X is less than or equal to x.\\n\\n- For continuous random variables:\\nF(x) = ∫[−∞ to x] f(t) dt, where f(t) is the Probability Density Function (PDF) of X.\\n\\nProperties of the CDF:\\n1. Non-decreasing: The CDF is a monotonically non-decreasing function, meaning that as x increases, the cumulative probability F(x) also increases or remains constant.\\n\\n2. Bounded: The CDF is bounded between 0 and 1, inclusive. That is, 0 ≤ F(x) ≤ 1 for all values of x.\\n\\n3. Limits: As x approaches negative infinity, F(x) approaches 0, and as x approaches positive infinity, F(x) approaches 1.\\n\\n4. Step function (discrete case): For discrete random variables, the CDF is a step function with jumps at the possible values of the random variable.\\n\\nExample of CDF:\\nLet's consider a discrete random variable X representing the outcome of rolling a fair six-sided die. The possible outcomes of X are {1, 2, 3, 4, 5, 6}, and each outcome has an equal probability of 1/6. The CDF for X is as follows:\\n\\n- For x ≤ 1: F(x) = P(X ≤ 1) = P(X = 1) = 1/6\\n- For 1 < x ≤ 2: F(x) = P(X ≤ 2) = P(X = 1 or X = 2) = 2/6 = 1/3\\n- For 2 < x ≤ 3: F(x) = P(X ≤ 3) = P(X = 1 or X = 2 or X = 3) = 3/6 = 1/2\\n- For 3 < x ≤ 4: F(x) = P(X ≤ 4) = P(X = 1 or X = 2 or X = 3 or X = 4) = 4/6 = 2/3\\n- For 4 < x ≤ 5: F(x) = P(X ≤ 5) = P(X = 1 or X = 2 or X = 3 or X = 4 or X = 5) = 5/6\\n- For x > 5: F(x) = P(X ≤ 6) = P(X = 1 or X = 2 or X = 3 or X = 4 or X = 5 or X = 6) = 1\\n\\nWhy CDF is used?\\nThe CDF is used for various purposes in probability and statistics:\\n\\n1. Probability Calculation: The CDF provides a convenient way to calculate the probability that a random variable is less than or equal to a specific value, i.e., P(X ≤ x).\\n\\n2. Percentile Calculation: The CDF can be used to find percentiles of the distribution. For example, the 25th percentile is the value of x for which F(x) = 0.25.\\n\\n3. Statistical Inference: The CDF is used in hypothesis testing, confidence interval estimation, and other statistical procedures.\\n\\n4. Generating Random Samples: The inverse of the CDF, known as the quantile function, can be used to generate random samples from a given distribution.\\n\\nIn summary, the CDF is a fundamental concept in probability and statistics that provides valuable information about the cumulative probability distribution of a random variable. It is widely used for various statistical analyses and calculations.\""
      ]
     },
     "execution_count": 2,
     "metadata": {},
     "output_type": "execute_result"
    }
   ],
   "source": [
    "#que 2\n",
    "\"\"\"The Cumulative Distribution Function (CDF) is a function used in probability theory and statistics to describe the cumulative probability distribution of a random variable. It gives the probability that the random variable is less than or equal to a specific value. For discrete random variables, the CDF is a step function, while for continuous random variables, it is a continuous function.\n",
    "\n",
    "Mathematically, the CDF is denoted as F(x) for a random variable X, and it is defined as follows:\n",
    "\n",
    "- For discrete random variables:\n",
    "F(x) = P(X ≤ x), where P(X ≤ x) is the probability that X is less than or equal to x.\n",
    "\n",
    "- For continuous random variables:\n",
    "F(x) = ∫[−∞ to x] f(t) dt, where f(t) is the Probability Density Function (PDF) of X.\n",
    "\n",
    "Properties of the CDF:\n",
    "1. Non-decreasing: The CDF is a monotonically non-decreasing function, meaning that as x increases, the cumulative probability F(x) also increases or remains constant.\n",
    "\n",
    "2. Bounded: The CDF is bounded between 0 and 1, inclusive. That is, 0 ≤ F(x) ≤ 1 for all values of x.\n",
    "\n",
    "3. Limits: As x approaches negative infinity, F(x) approaches 0, and as x approaches positive infinity, F(x) approaches 1.\n",
    "\n",
    "4. Step function (discrete case): For discrete random variables, the CDF is a step function with jumps at the possible values of the random variable.\n",
    "\n",
    "Example of CDF:\n",
    "Let's consider a discrete random variable X representing the outcome of rolling a fair six-sided die. The possible outcomes of X are {1, 2, 3, 4, 5, 6}, and each outcome has an equal probability of 1/6. The CDF for X is as follows:\n",
    "\n",
    "- For x ≤ 1: F(x) = P(X ≤ 1) = P(X = 1) = 1/6\n",
    "- For 1 < x ≤ 2: F(x) = P(X ≤ 2) = P(X = 1 or X = 2) = 2/6 = 1/3\n",
    "- For 2 < x ≤ 3: F(x) = P(X ≤ 3) = P(X = 1 or X = 2 or X = 3) = 3/6 = 1/2\n",
    "- For 3 < x ≤ 4: F(x) = P(X ≤ 4) = P(X = 1 or X = 2 or X = 3 or X = 4) = 4/6 = 2/3\n",
    "- For 4 < x ≤ 5: F(x) = P(X ≤ 5) = P(X = 1 or X = 2 or X = 3 or X = 4 or X = 5) = 5/6\n",
    "- For x > 5: F(x) = P(X ≤ 6) = P(X = 1 or X = 2 or X = 3 or X = 4 or X = 5 or X = 6) = 1\n",
    "\n",
    "Why CDF is used?\n",
    "The CDF is used for various purposes in probability and statistics:\n",
    "\n",
    "1. Probability Calculation: The CDF provides a convenient way to calculate the probability that a random variable is less than or equal to a specific value, i.e., P(X ≤ x).\n",
    "\n",
    "2. Percentile Calculation: The CDF can be used to find percentiles of the distribution. For example, the 25th percentile is the value of x for which F(x) = 0.25.\n",
    "\n",
    "3. Statistical Inference: The CDF is used in hypothesis testing, confidence interval estimation, and other statistical procedures.\n",
    "\n",
    "4. Generating Random Samples: The inverse of the CDF, known as the quantile function, can be used to generate random samples from a given distribution.\n",
    "\n",
    "In summary, the CDF is a fundamental concept in probability and statistics that provides valuable information about the cumulative probability distribution of a random variable. It is widely used for various statistical analyses and calculations.\"\"\""
   ]
  },
  {
   "cell_type": "code",
   "execution_count": 3,
   "id": "747162f2-1fd0-46cd-aea0-84ef9aecd7dd",
   "metadata": {},
   "outputs": [
    {
     "data": {
      "text/plain": [
       "'The normal distribution is a widely used probability distribution in various fields due to its unique properties and prevalence in natural phenomena. It is applicable in many real-world situations where the data follows a bell-shaped pattern. Some examples of situations where the normal distribution might be used as a model include:\\n\\n1. Heights of Adults: The heights of adult individuals often follow a normal distribution. While there may be some variations due to genetics and environmental factors, the overall pattern tends to be approximately bell-shaped.\\n\\n2. Test Scores: In educational testing, when large samples of students take standardized tests, the distribution of scores often approximates a normal distribution.\\n\\n3. Errors in Measurements: When errors are made in measurements or observations due to various factors, such as instrument precision, human error, or natural variability, these errors often follow a normal distribution.\\n\\n4. IQ Scores: Intelligence quotient (IQ) scores, which are designed to have a normal distribution with a mean of 100 and a standard deviation of 15, are widely used to assess cognitive abilities.\\n\\n5. Random Variables with Many Components: According to the Central Limit Theorem, the sum or average of a large number of independent and identically distributed random variables tends to follow a normal distribution, regardless of the underlying distribution of the individual components.\\n\\nParameters of the Normal Distribution:\\nThe normal distribution is characterized by two parameters: the mean (μ) and the standard deviation (σ). These parameters play a crucial role in determining the shape of the distribution.\\n\\n1. Mean (μ): The mean represents the central tendency of the data and determines the location of the peak (center) of the bell-shaped curve. If μ is positive, the curve shifts to the right; if μ is negative, the curve shifts to the left.\\n\\n2. Standard Deviation (σ): The standard deviation measures the spread or variability of the data points around the mean. A larger σ leads to a wider and flatter curve, while a smaller σ results in a narrower and taller curve.\\n\\nThe mean and standard deviation together define the entire shape of the normal distribution. When μ = 0 and σ = 1, the distribution is called the standard normal distribution, and it has a well-known bell-shaped curve centered at 0 and a standard deviation of 1. By changing the values of μ and σ, we can shift and scale the normal distribution as needed to fit various real-world scenarios.'"
      ]
     },
     "execution_count": 3,
     "metadata": {},
     "output_type": "execute_result"
    }
   ],
   "source": [
    "#que 3\n",
    "\"\"\"The normal distribution is a widely used probability distribution in various fields due to its unique properties and prevalence in natural phenomena. It is applicable in many real-world situations where the data follows a bell-shaped pattern. Some examples of situations where the normal distribution might be used as a model include:\n",
    "\n",
    "1. Heights of Adults: The heights of adult individuals often follow a normal distribution. While there may be some variations due to genetics and environmental factors, the overall pattern tends to be approximately bell-shaped.\n",
    "\n",
    "2. Test Scores: In educational testing, when large samples of students take standardized tests, the distribution of scores often approximates a normal distribution.\n",
    "\n",
    "3. Errors in Measurements: When errors are made in measurements or observations due to various factors, such as instrument precision, human error, or natural variability, these errors often follow a normal distribution.\n",
    "\n",
    "4. IQ Scores: Intelligence quotient (IQ) scores, which are designed to have a normal distribution with a mean of 100 and a standard deviation of 15, are widely used to assess cognitive abilities.\n",
    "\n",
    "5. Random Variables with Many Components: According to the Central Limit Theorem, the sum or average of a large number of independent and identically distributed random variables tends to follow a normal distribution, regardless of the underlying distribution of the individual components.\n",
    "\n",
    "Parameters of the Normal Distribution:\n",
    "The normal distribution is characterized by two parameters: the mean (μ) and the standard deviation (σ). These parameters play a crucial role in determining the shape of the distribution.\n",
    "\n",
    "1. Mean (μ): The mean represents the central tendency of the data and determines the location of the peak (center) of the bell-shaped curve. If μ is positive, the curve shifts to the right; if μ is negative, the curve shifts to the left.\n",
    "\n",
    "2. Standard Deviation (σ): The standard deviation measures the spread or variability of the data points around the mean. A larger σ leads to a wider and flatter curve, while a smaller σ results in a narrower and taller curve.\n",
    "\n",
    "The mean and standard deviation together define the entire shape of the normal distribution. When μ = 0 and σ = 1, the distribution is called the standard normal distribution, and it has a well-known bell-shaped curve centered at 0 and a standard deviation of 1. By changing the values of μ and σ, we can shift and scale the normal distribution as needed to fit various real-world scenarios.\"\"\""
   ]
  },
  {
   "cell_type": "code",
   "execution_count": null,
   "id": "a802dda4-6549-4f9f-af79-41e595edd249",
   "metadata": {},
   "outputs": [],
   "source": [
    "#que "
   ]
  }
 ],
 "metadata": {
  "kernelspec": {
   "display_name": "Python 3 (ipykernel)",
   "language": "python",
   "name": "python3"
  },
  "language_info": {
   "codemirror_mode": {
    "name": "ipython",
    "version": 3
   },
   "file_extension": ".py",
   "mimetype": "text/x-python",
   "name": "python",
   "nbconvert_exporter": "python",
   "pygments_lexer": "ipython3",
   "version": "3.10.8"
  }
 },
 "nbformat": 4,
 "nbformat_minor": 5
}
